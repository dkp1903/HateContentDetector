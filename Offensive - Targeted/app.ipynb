{
 "cells": [
  {
   "cell_type": "code",
   "execution_count": 57,
   "metadata": {},
   "outputs": [],
   "source": [
    "import sys\n",
    "import pandas as pd\n",
    "import numpy as np\n",
    "from matplotlib import pyplot as plt"
   ]
  },
  {
   "cell_type": "code",
   "execution_count": 72,
   "metadata": {},
   "outputs": [],
   "source": [
    "import libs.preprocessor as p"
   ]
  },
  {
   "cell_type": "code",
   "execution_count": 73,
   "metadata": {},
   "outputs": [],
   "source": [
    "directory = \"datasets/training-v1/offenseval-training-v1.tsv\"\n",
    "train_data = pd.read_csv(directory, sep='\\t', header=0)"
   ]
  },
  {
   "cell_type": "code",
   "execution_count": 74,
   "metadata": {},
   "outputs": [],
   "source": [
    "tweets = train_data[[\"tweet\"]]\n",
    "subtask_a_labels = train_data[[\"subtask_a\"]]\n",
    "subtask_b_labels = train_data.query(\"subtask_a == 'OFF'\")[[\"subtask_b\"]]\n",
    "subtask_c_labels = train_data.query(\"subtask_b == 'TIN'\")[[\"subtask_c\"]]"
   ]
  },
  {
   "cell_type": "code",
   "execution_count": 113,
   "metadata": {},
   "outputs": [],
   "source": [
    "p.set_options(p.OPT.URL, p.OPT.EMOJI, p.OPT.MENTION, p.OPT.SMILEY)\n",
    "clean_tweets = pd.DataFrame(columns=[\"tweet\"])\n",
    "for tweet in tweets['tweet']:\n",
    "    clean_tweets = clean_tweets.append({'tweet': p.clean(tweet).replace('#', '').replace('🇺🇸', '')}, ignore_index=True)"
   ]
  },
  {
   "cell_type": "code",
   "execution_count": 114,
   "metadata": {},
   "outputs": [
    {
     "name": "stdout",
     "output_type": "stream",
     "text": [
      "                                                   tweet\n",
      "0      She should ask a few native Americans what the...\n",
      "1            Go home you’re drunk!!! MAGA Trump2020  URL\n",
      "2      Amazon is investigating Chinese employees who ...\n",
      "3      Someone should'veTaken\" this piece of shit to ...\n",
      "4      Obama wanted liberals &amp; illegals to move i...\n",
      "5                            Liberals are all Kookoo !!!\n",
      "6                                   Oh noes! Tough shit.\n",
      "7      was literally just talking about this lol all ...\n",
      "8                                   Buy more icecream!!!\n",
      "9      Canada doesn’t need another CUCK! We already h...\n",
      "10             It’s not my fault you support gun control\n",
      "11     What’s the difference between Kavanaugh and On...\n",
      "12     you are a lying corrupt traitor!!! Nobody want...\n",
      "13     It should scare every American! She is playing...\n",
      "14     I like my soda like I like my boarders with a ...\n",
      "15                        you are also the king of taste\n",
      "16     MAGA Sing like no one is listening ️ Love like...\n",
      "17     5/5: The time is right for this House to respo...\n",
      "18     Besides Jax’s mom and maybe Ope he is hands do...\n",
      "19     gun control! That is all these kids are asking...\n",
      "20     LOL!!! Throwing the BULLSHIT Flag on such nons...\n",
      "21                                      You are correct.\n",
      "22     Kind of like when conservatives wanna associat...\n",
      "23     Da fuck is going on people? There's the men's ...\n",
      "24     Been a Willie fan since before most of you wer...\n",
      "25     Tbh these days i just don't like people in gen...\n",
      "26     South Korean Official: “Leaders will discuss s...\n",
      "27                       You can tell he is a hooper too\n",
      "28            I feel like he is better chasing the title\n",
      "29     She? To whom are you referring to? Hillary? Yo...\n",
      "...                                                  ...\n",
      "13210                            He is he is so precious\n",
      "13211                                          Booooring\n",
      "13212  Everything else was ten years ago. \" YOU ARE A...\n",
      "13213                      Right. Dang. She is the s...t\n",
      "13214  McRaven engaged in a publicity stunt. He never...\n",
      "13215  Oh man! You are going to trigger the fanboys/f...\n",
      "13216  Aw Chelsea it never ends. You are as always th...\n",
      "13217                          “My head is a fuckin egg”\n",
      "13218  Alt Right &amp; Antifa are for cowards. Fact T...\n",
      "13219  Did you serve? You rate at bottom of the barre...\n",
      "13220  . is right to say that housing associations sh...\n",
      "13221  is just trying to make good with his libnut el...\n",
      "13222  I'm a Boise State fan so I can tell you two th...\n",
      "13223  is advocating for conduct within bounds of Hum...\n",
      "13224  So have the conservatives accepted the antisem...\n",
      "13225  Can we all agree that Tomlins seat is heating ...\n",
      "13226                           when you coming to ohio?\n",
      "13227  Liars like the Antifa twins you vigorously def...\n",
      "13228  He is involved because he was there! Now he ne...\n",
      "13229  How much lonely she is and how much she misses...\n",
      "13230  Billy you have a short memory. Obama tried to ...\n",
      "13231                                 BUT GUN CONTROL!!!\n",
      "13232        She is not the brightest light on the tree.\n",
      "13233  if I say you are mad now you will say I'm tire...\n",
      "13234    Retweet complete &amp; followed all patriots!️️\n",
      "13235  Sometimes I get strong vibes from people and t...\n",
      "13236  Benidorm Creamfields Maga Not too shabby of a ...\n",
      "13237  And why report this garbage. We don't give a c...\n",
      "13238                                              Pussy\n",
      "13239  Spanishrevenge vs. justice HumanRights and Fre...\n",
      "\n",
      "[13240 rows x 1 columns]\n"
     ]
    }
   ],
   "source": [
    "print(clean_tweets)"
   ]
  },
  {
   "cell_type": "code",
   "execution_count": null,
   "metadata": {},
   "outputs": [],
   "source": []
  },
  {
   "cell_type": "code",
   "execution_count": null,
   "metadata": {},
   "outputs": [],
   "source": []
  }
 ],
 "metadata": {
  "kernelspec": {
   "display_name": "Python 3",
   "language": "python",
   "name": "python3"
  },
  "language_info": {
   "codemirror_mode": {
    "name": "ipython",
    "version": 3
   },
   "file_extension": ".py",
   "mimetype": "text/x-python",
   "name": "python",
   "nbconvert_exporter": "python",
   "pygments_lexer": "ipython3",
   "version": "3.7.1"
  }
 },
 "nbformat": 4,
 "nbformat_minor": 2
}
