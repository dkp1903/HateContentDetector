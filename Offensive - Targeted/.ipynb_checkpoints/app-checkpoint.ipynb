{
 "cells": [
  {
   "cell_type": "code",
   "execution_count": 3,
   "metadata": {},
   "outputs": [],
   "source": [
    "import pandas as pd\n",
    "import numpy as np\n",
    "from matplotlib import pyplot as plt"
   ]
  },
  {
   "cell_type": "code",
   "execution_count": 8,
   "metadata": {},
   "outputs": [],
   "source": [
    "directory = \"datasets/training-v1/offenseval-training-v1.tsv\"\n",
    "train_data = pd.read_csv(directory, sep='\\t', header=0)"
   ]
  },
  {
   "cell_type": "code",
   "execution_count": 10,
   "metadata": {},
   "outputs": [
    {
     "name": "stdout",
     "output_type": "stream",
     "text": [
      "0        @USER She should ask a few native Americans wh...\n",
      "1        @USER @USER Go home you’re drunk!!! @USER #MAG...\n",
      "2        Amazon is investigating Chinese employees who ...\n",
      "3        @USER Someone should'veTaken\" this piece of sh...\n",
      "4        @USER @USER Obama wanted liberals &amp; illega...\n",
      "5                        @USER Liberals are all Kookoo !!!\n",
      "6                         @USER @USER Oh noes! Tough shit.\n",
      "7        @USER was literally just talking about this lo...\n",
      "8                               @USER Buy more icecream!!!\n",
      "9        @USER Canada doesn’t need another CUCK! We alr...\n",
      "10       @USER @USER @USER It’s not my fault you suppor...\n",
      "11       @USER What’s the difference between #Kavanaugh...\n",
      "12       @USER you are a lying corrupt traitor!!! Nobod...\n",
      "13       @USER @USER @USER It should scare every Americ...\n",
      "14       @USER @USER @USER @USER @USER @USER @USER @USE...\n",
      "15                    @USER you are also the king of taste\n",
      "16       #MAGA @USER  🎶 Sing like no one is listening  ...\n",
      "17       5/5: @USER The time is right for this House to...\n",
      "18       @USER Besides Jax’s mom and maybe Ope he is ha...\n",
      "19       @USER @USER @USER gun control! That is all the...\n",
      "20       @USER @USER @USER @USER LOL!!!   Throwing the ...\n",
      "21                            @USER @USER You are correct.\n",
      "22       @USER @USER Kind of like when conservatives wa...\n",
      "23       @USER @USER Da fuck is going on people?   Ther...\n",
      "24       @USER Been a Willie fan since before most of y...\n",
      "25       @USER Tbh these days i just don't like people ...\n",
      "26       South Korean Official: “Leaders will discuss s...\n",
      "27             @USER @USER You can tell he is a hooper too\n",
      "28        @USER I feel like he is better chasing the title\n",
      "29       @USER @USER @USER She?  To whom are you referr...\n",
      "                               ...                        \n",
      "13210                  @USER He is 😭😭😭 he is so precious 💖\n",
      "13211                                      @USER Booooring\n",
      "13212    @USER @USER Everything else was ten years ago....\n",
      "13213    @USER @USER @USER @USER Right. Dang. She is th...\n",
      "13214    @USER @USER McRaven engaged in a publicity stu...\n",
      "13215    @USER @USER Oh man! You are going to trigger t...\n",
      "13216    @USER Aw Chelsea it never ends. You are as alw...\n",
      "13217                      @USER “My head is a fuckin egg”\n",
      "13218    @USER @USER @USER @USER @USER @USER @USER @USE...\n",
      "13219    @USER @USER Did you serve?   You rate at botto...\n",
      "13220    .@USER is right to say that housing associatio...\n",
      "13221    @USER @USER is just trying to make good with h...\n",
      "13222    @USER @USER I'm a Boise State fan so I can tel...\n",
      "13223    @USER is advocating for conduct within bounds ...\n",
      "13224    @USER @USER @USER So have the conservatives ac...\n",
      "13225    @USER Can we all agree that Tomlins seat is he...\n",
      "13226                       @USER when you coming to ohio?\n",
      "13227    @USER @USER @USER @USER Liars like the Antifa ...\n",
      "13228    @USER @USER He is involved because he was ther...\n",
      "13229    @USER @USER @USER How much lonely she is and h...\n",
      "13230    @USER @USER Billy you have a short memory. Oba...\n",
      "13231                       @USER @USER BUT GUN CONTROL!!!\n",
      "13232    @USER She is not the brightest light on the tree.\n",
      "13233    @USER 😂😂😂😂😂😂 if I say you are mad now you will...\n",
      "13234    @USER @USER @USER @USER @USER @USER @USER @USE...\n",
      "13235    @USER Sometimes I get strong vibes from people...\n",
      "13236    Benidorm ✅  Creamfields ✅  Maga ✅   Not too sh...\n",
      "13237    @USER And why report this garbage.  We don't g...\n",
      "13238                                          @USER Pussy\n",
      "13239    #Spanishrevenge vs. #justice #HumanRights and ...\n",
      "Name: tweet, Length: 13240, dtype: object\n"
     ]
    }
   ],
   "source": [
    "print(train_data[\"tweet\"])"
   ]
  },
  {
   "cell_type": "code",
   "execution_count": null,
   "metadata": {},
   "outputs": [],
   "source": [
    "plt.plot(train_data[\"id\"])\n",
    "plt.show()"
   ]
  },
  {
   "cell_type": "code",
   "execution_count": null,
   "metadata": {},
   "outputs": [],
   "source": []
  }
 ],
 "metadata": {
  "kernelspec": {
   "display_name": "Python 3",
   "language": "python",
   "name": "python3"
  },
  "language_info": {
   "codemirror_mode": {
    "name": "ipython",
    "version": 3
   },
   "file_extension": ".py",
   "mimetype": "text/x-python",
   "name": "python",
   "nbconvert_exporter": "python",
   "pygments_lexer": "ipython3",
   "version": "3.7.1"
  }
 },
 "nbformat": 4,
 "nbformat_minor": 2
}
